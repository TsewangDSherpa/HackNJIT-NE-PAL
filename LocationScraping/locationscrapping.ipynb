{
 "cells": [
  {
   "cell_type": "code",
   "execution_count": 40,
   "metadata": {},
   "outputs": [
    {
     "name": "stdout",
     "output_type": "stream",
     "text": [
      "{'ip': '128.235.159.9', 'hostname': 'evt-pat-159-9.njit.edu', 'city': 'Society Hill', 'region': 'New Jersey', 'country': 'US', 'loc': '40.5340,-74.4579', 'org': 'AS4246 New Jersey Institute of Technology', 'postal': '08854', 'timezone': 'America/New_York', 'readme': 'https://ipinfo.io/missingauth'}\n",
      "Approximate Location: Latitude 40.534, Longitude -74.4579\n"
     ]
    }
   ],
   "source": [
    "import requests\n",
    "\n",
    "def get_user_location():\n",
    "    # Get the public IP address of the user (you may need to use a different method)\n",
    "    public_ip = requests.get('https://api64.ipify.org?format=json').json()['ip']\n",
    "\n",
    "    # Use ipinfo.io to get location data based on the IP address\n",
    "    response = requests.get(f'https://ipinfo.io/{public_ip}/json')\n",
    "    data = response.json()\n",
    "    print(data)\n",
    "\n",
    "    if 'loc' in data:\n",
    "        latitude, longitude = map(float, data['loc'].split(','))\n",
    "        return latitude, longitude\n",
    "    else:\n",
    "        return None\n",
    "\n",
    "if __name__ == \"__main__\":\n",
    "    user_location = get_user_location()\n",
    "    if user_location:\n",
    "        latitude, longitude = user_location\n",
    "        print(f\"Approximate Location: Latitude {latitude}, Longitude {longitude}\")\n",
    "    else:\n",
    "        print(\"Unable to determine the user's location.\")\n"
   ]
  },
  {
   "cell_type": "code",
   "execution_count": 28,
   "metadata": {},
   "outputs": [
    {
     "ename": "TypeError",
     "evalue": "Nominatim.__init__() got an unexpected keyword argument 'cafile'",
     "output_type": "error",
     "traceback": [
      "\u001b[0;31m---------------------------------------------------------------------------\u001b[0m",
      "\u001b[0;31mTypeError\u001b[0m                                 Traceback (most recent call last)",
      "\u001b[1;32m/Users/kanany/hacknjit/LocationScraping/locationscrapping.ipynb Cell 3\u001b[0m line \u001b[0;36m3\n\u001b[1;32m      <a href='vscode-notebook-cell:/Users/kanany/hacknjit/LocationScraping/locationscrapping.ipynb#W5sZmlsZQ%3D%3D?line=0'>1</a>\u001b[0m \u001b[39mfrom\u001b[39;00m \u001b[39mgeopy\u001b[39;00m\u001b[39m.\u001b[39;00m\u001b[39mgeocoders\u001b[39;00m \u001b[39mimport\u001b[39;00m Nominatim\n\u001b[0;32m----> <a href='vscode-notebook-cell:/Users/kanany/hacknjit/LocationScraping/locationscrapping.ipynb#W5sZmlsZQ%3D%3D?line=2'>3</a>\u001b[0m geolocator \u001b[39m=\u001b[39m Nominatim(user_agent\u001b[39m=\u001b[39;49m\u001b[39m\"\u001b[39;49m\u001b[39muser_location_app\u001b[39;49m\u001b[39m\"\u001b[39;49m, cafile\u001b[39m=\u001b[39;49m\u001b[39m\"\u001b[39;49m\u001b[39m/path/to/custom/certificates.pem\u001b[39;49m\u001b[39m\"\u001b[39;49m)\n",
      "\u001b[0;31mTypeError\u001b[0m: Nominatim.__init__() got an unexpected keyword argument 'cafile'"
     ]
    }
   ],
   "source": [
    "from geopy.geocoders import Nominatim\n",
    "\n",
    "geolocator = Nominatim(user_agent=\"user_location_app\", cafile=\"/path/to/custom/certificates.pem\")\n"
   ]
  }
 ],
 "metadata": {
  "kernelspec": {
   "display_name": "Python 3",
   "language": "python",
   "name": "python3"
  },
  "language_info": {
   "codemirror_mode": {
    "name": "ipython",
    "version": 3
   },
   "file_extension": ".py",
   "mimetype": "text/x-python",
   "name": "python",
   "nbconvert_exporter": "python",
   "pygments_lexer": "ipython3",
   "version": "3.12.0"
  }
 },
 "nbformat": 4,
 "nbformat_minor": 2
}
